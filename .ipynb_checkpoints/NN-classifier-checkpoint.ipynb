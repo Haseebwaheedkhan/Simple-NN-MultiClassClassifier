{
 "cells": [
  {
   "cell_type": "code",
   "execution_count": 2,
   "id": "01108059",
   "metadata": {},
   "outputs": [],
   "source": [
    "# importing Libraries\n",
    "\n",
    "from torch import nn, optim \n",
    "import torch.nn.functional as F\n",
    "import torch.utils.data as data\n",
    "import torch\n",
    "from torch.autograd import Variable\n",
    "import matplotlib.pyplot as plt\n",
    "\n",
    "import numpy as np"
   ]
  },
  {
   "cell_type": "code",
   "execution_count": 4,
   "id": "c35c0091",
   "metadata": {},
   "outputs": [],
   "source": [
    "# Load dataset\n",
    "\n",
    "import pandas as pd\n",
    "train = pd.read_csv(\"train.csv\")\n",
    "train_labels = train[\"label\"].values # create a vector array\n",
    "train.drop(\"label\", axis=1, inplace=True)"
   ]
  },
  {
   "cell_type": "code",
   "execution_count": 5,
   "id": "bc816993",
   "metadata": {},
   "outputs": [],
   "source": [
    "# import matplotlib.pyplot as plt\n",
    "\n",
    "# plt.imshow(np.reshape(train.values[0][1:],(28,28)), cmap=plt.get_cmap('gray'))\n",
    "# plt.show()"
   ]
  },
  {
   "cell_type": "code",
   "execution_count": 6,
   "id": "ed432794",
   "metadata": {},
   "outputs": [
    {
     "name": "stdout",
     "output_type": "stream",
     "text": [
      "Shape of training dataset: (1000, 784)\n"
     ]
    },
    {
     "data": {
      "text/html": [
       "<div>\n",
       "<style scoped>\n",
       "    .dataframe tbody tr th:only-of-type {\n",
       "        vertical-align: middle;\n",
       "    }\n",
       "\n",
       "    .dataframe tbody tr th {\n",
       "        vertical-align: top;\n",
       "    }\n",
       "\n",
       "    .dataframe thead th {\n",
       "        text-align: right;\n",
       "    }\n",
       "</style>\n",
       "<table border=\"1\" class=\"dataframe\">\n",
       "  <thead>\n",
       "    <tr style=\"text-align: right;\">\n",
       "      <th></th>\n",
       "      <th>pixel0</th>\n",
       "      <th>pixel1</th>\n",
       "      <th>pixel2</th>\n",
       "      <th>pixel3</th>\n",
       "      <th>pixel4</th>\n",
       "      <th>pixel5</th>\n",
       "      <th>pixel6</th>\n",
       "      <th>pixel7</th>\n",
       "      <th>pixel8</th>\n",
       "      <th>pixel9</th>\n",
       "      <th>...</th>\n",
       "      <th>pixel774</th>\n",
       "      <th>pixel775</th>\n",
       "      <th>pixel776</th>\n",
       "      <th>pixel777</th>\n",
       "      <th>pixel778</th>\n",
       "      <th>pixel779</th>\n",
       "      <th>pixel780</th>\n",
       "      <th>pixel781</th>\n",
       "      <th>pixel782</th>\n",
       "      <th>pixel783</th>\n",
       "    </tr>\n",
       "  </thead>\n",
       "  <tbody>\n",
       "    <tr>\n",
       "      <th>0</th>\n",
       "      <td>0</td>\n",
       "      <td>0</td>\n",
       "      <td>0</td>\n",
       "      <td>0</td>\n",
       "      <td>0</td>\n",
       "      <td>0</td>\n",
       "      <td>0</td>\n",
       "      <td>0</td>\n",
       "      <td>0</td>\n",
       "      <td>0</td>\n",
       "      <td>...</td>\n",
       "      <td>0</td>\n",
       "      <td>0</td>\n",
       "      <td>0</td>\n",
       "      <td>0</td>\n",
       "      <td>0</td>\n",
       "      <td>0</td>\n",
       "      <td>0</td>\n",
       "      <td>0</td>\n",
       "      <td>0</td>\n",
       "      <td>0</td>\n",
       "    </tr>\n",
       "    <tr>\n",
       "      <th>1</th>\n",
       "      <td>0</td>\n",
       "      <td>0</td>\n",
       "      <td>0</td>\n",
       "      <td>0</td>\n",
       "      <td>0</td>\n",
       "      <td>0</td>\n",
       "      <td>0</td>\n",
       "      <td>0</td>\n",
       "      <td>0</td>\n",
       "      <td>0</td>\n",
       "      <td>...</td>\n",
       "      <td>0</td>\n",
       "      <td>0</td>\n",
       "      <td>0</td>\n",
       "      <td>0</td>\n",
       "      <td>0</td>\n",
       "      <td>0</td>\n",
       "      <td>0</td>\n",
       "      <td>0</td>\n",
       "      <td>0</td>\n",
       "      <td>0</td>\n",
       "    </tr>\n",
       "    <tr>\n",
       "      <th>2</th>\n",
       "      <td>0</td>\n",
       "      <td>0</td>\n",
       "      <td>0</td>\n",
       "      <td>0</td>\n",
       "      <td>0</td>\n",
       "      <td>0</td>\n",
       "      <td>0</td>\n",
       "      <td>0</td>\n",
       "      <td>0</td>\n",
       "      <td>0</td>\n",
       "      <td>...</td>\n",
       "      <td>0</td>\n",
       "      <td>0</td>\n",
       "      <td>0</td>\n",
       "      <td>0</td>\n",
       "      <td>0</td>\n",
       "      <td>0</td>\n",
       "      <td>0</td>\n",
       "      <td>0</td>\n",
       "      <td>0</td>\n",
       "      <td>0</td>\n",
       "    </tr>\n",
       "  </tbody>\n",
       "</table>\n",
       "<p>3 rows × 784 columns</p>\n",
       "</div>"
      ],
      "text/plain": [
       "   pixel0  pixel1  pixel2  pixel3  pixel4  pixel5  pixel6  pixel7  pixel8  \\\n",
       "0       0       0       0       0       0       0       0       0       0   \n",
       "1       0       0       0       0       0       0       0       0       0   \n",
       "2       0       0       0       0       0       0       0       0       0   \n",
       "\n",
       "   pixel9  ...  pixel774  pixel775  pixel776  pixel777  pixel778  pixel779  \\\n",
       "0       0  ...         0         0         0         0         0         0   \n",
       "1       0  ...         0         0         0         0         0         0   \n",
       "2       0  ...         0         0         0         0         0         0   \n",
       "\n",
       "   pixel780  pixel781  pixel782  pixel783  \n",
       "0         0         0         0         0  \n",
       "1         0         0         0         0  \n",
       "2         0         0         0         0  \n",
       "\n",
       "[3 rows x 784 columns]"
      ]
     },
     "execution_count": 6,
     "metadata": {},
     "output_type": "execute_result"
    }
   ],
   "source": [
    "print(\"Shape of training dataset: {}\".format(train.shape))\n",
    "train.head(3)"
   ]
  },
  {
   "cell_type": "code",
   "execution_count": 7,
   "id": "0219fcd0",
   "metadata": {},
   "outputs": [
    {
     "name": "stdout",
     "output_type": "stream",
     "text": [
      "train.values:  (1000, 784)\n",
      "train.values.reshape(len(train),1,28,28).shape:  (1000, 1, 28, 28)\n"
     ]
    }
   ],
   "source": [
    "print(\"train.values: \", train.values.shape)\n",
    "train = train.values.reshape(len(train),1,28,28)\n",
    "print(\"train.values.reshape(len(train),1,28,28).shape: \", train.shape)"
   ]
  },
  {
   "cell_type": "code",
   "execution_count": 8,
   "id": "dfe51aae",
   "metadata": {},
   "outputs": [],
   "source": [
    "# Float tensor is the 32 bit floating point numbers\n",
    "# long tensor is 64 bit integers\n",
    "# x variable has to be float as it will help pytorch to compute gradients\n",
    "# y variable has to be integers because we will predicts the values 1,2,3,4...\n",
    "x = torch.Tensor(train.astype(float)) # converting train dataframe to pytorch  \n",
    "y = torch.Tensor(train_labels).long() \n"
   ]
  },
  {
   "cell_type": "code",
   "execution_count": 9,
   "id": "60d11877",
   "metadata": {},
   "outputs": [
    {
     "data": {
      "text/plain": [
       "torch.Size([1000, 1, 28, 28])"
      ]
     },
     "execution_count": 9,
     "metadata": {},
     "output_type": "execute_result"
    }
   ],
   "source": [
    "x.shape"
   ]
  },
  {
   "cell_type": "code",
   "execution_count": 10,
   "id": "744e9815",
   "metadata": {},
   "outputs": [],
   "source": [
    "# np.reshape(train.values[0][1:],(28,28)).shape"
   ]
  },
  {
   "cell_type": "code",
   "execution_count": 11,
   "id": "4f421ace",
   "metadata": {},
   "outputs": [
    {
     "ename": "AttributeError",
     "evalue": "'numpy.ndarray' object has no attribute 'values'",
     "output_type": "error",
     "traceback": [
      "\u001b[1;31m---------------------------------------------------------------------------\u001b[0m",
      "\u001b[1;31mAttributeError\u001b[0m                            Traceback (most recent call last)",
      "\u001b[1;32m~\\AppData\\Local\\Temp\\ipykernel_8980\\3019183432.py\u001b[0m in \u001b[0;36m<module>\u001b[1;34m\u001b[0m\n\u001b[1;32m----> 1\u001b[1;33m \u001b[0mtrain\u001b[0m\u001b[1;33m.\u001b[0m\u001b[0mvalues\u001b[0m\u001b[1;33m[\u001b[0m\u001b[1;36m0\u001b[0m\u001b[1;33m]\u001b[0m\u001b[1;33m[\u001b[0m\u001b[1;36m1\u001b[0m\u001b[1;33m:\u001b[0m\u001b[1;33m]\u001b[0m\u001b[1;33m.\u001b[0m\u001b[0mshape\u001b[0m\u001b[1;33m\u001b[0m\u001b[1;33m\u001b[0m\u001b[0m\n\u001b[0m",
      "\u001b[1;31mAttributeError\u001b[0m: 'numpy.ndarray' object has no attribute 'values'"
     ]
    }
   ],
   "source": [
    "train.values[0][1:].shape"
   ]
  },
  {
   "cell_type": "code",
   "execution_count": 12,
   "id": "b5bcb0bd",
   "metadata": {},
   "outputs": [
    {
     "data": {
      "text/plain": [
       "tensor([[1.0000, 3.2000, 2.0000],\n",
       "        [2.0000, 3.0000, 4.0000]])"
      ]
     },
     "execution_count": 12,
     "metadata": {},
     "output_type": "execute_result"
    }
   ],
   "source": [
    "tensor = torch.tensor([[1.,3.2,2],\n",
    "                     [2, 3, 4]])\n",
    "tensor.view(tensor.shape[0],-1)\n",
    "\n",
    "tensor"
   ]
  },
  {
   "cell_type": "code",
   "execution_count": 13,
   "id": "88862f3d",
   "metadata": {},
   "outputs": [],
   "source": [
    "# Deploying Neural Network Model\n",
    "\n",
    "class Classifier(nn.Module):\n",
    "    def __init__(self):\n",
    "        super().__init__()\n",
    "        self.fc1 = nn.Linear(784, 392)\n",
    "        self.fc2 = nn.Linear(392, 196)\n",
    "        self.fc3 = nn.Linear(196, 98)\n",
    "        self.fc4 = nn.Linear(98, 10) # Output layer has10 units only i.e from 0 till 9\n",
    "        self.dropout = nn.Dropout(p=0.2)\n",
    "    def forward(self, x):\n",
    "        x = x.view(x.shape[0], -1) #reshape the tensor \n",
    "        x = self.dropout(F.relu(self.fc1(x)))\n",
    "        x = self.dropout(F.relu(self.fc2(x)))\n",
    "        x = self.dropout(F.relu(self.fc3(x)))\n",
    "        x = F.log_softmax(self.fc4(x), dim=1)  \n",
    "        return x"
   ]
  },
  {
   "cell_type": "code",
   "execution_count": 14,
   "id": "99ad0d7c",
   "metadata": {},
   "outputs": [
    {
     "name": "stdout",
     "output_type": "stream",
     "text": [
      "shape of x[0]: torch.Size([1, 28, 28])\n",
      "shape of x[0].view(-1).shape: torch.Size([784])\n",
      "shape of x.view(x.shape[0],-1).shape: torch.Size([1000, 784])\n"
     ]
    }
   ],
   "source": [
    "print(\"shape of x[0]: {}\\nshape of x[0].view(-1).shape: {}\\nshape of x.view(x.shape[0],-1).shape: {}\".format(x[0].shape, x[0].view(-1).shape, x.view(x.shape[0],-1).shape))"
   ]
  },
  {
   "cell_type": "code",
   "execution_count": 15,
   "id": "c3a58553",
   "metadata": {},
   "outputs": [],
   "source": [
    "# Setting the model paramters\n",
    "\n",
    "model = Classifier()\n",
    "loss_function = nn.NLLLoss()\n",
    "opt = optim.Adam(model.parameters(), lr=0.001)"
   ]
  },
  {
   "cell_type": "code",
   "execution_count": 16,
   "id": "ed675f4f",
   "metadata": {},
   "outputs": [
    {
     "name": "stderr",
     "output_type": "stream",
     "text": [
      "C:\\Users\\xFlow\\AppData\\Local\\Temp\\ipykernel_8980\\4019153965.py:5: UserWarning: To copy construct from a tensor, it is recommended to use sourceTensor.clone().detach() or sourceTensor.clone().detach().requires_grad_(True), rather than torch.tensor(sourceTensor).\n",
      "  images = torch.tensor(x)\n"
     ]
    },
    {
     "name": "stdout",
     "output_type": "stream",
     "text": [
      "Epoch [1/50] Loss: 10.4604\n",
      "Epoch [2/50] Loss: 5.1955\n",
      "Epoch [3/50] Loss: 3.3391\n",
      "Epoch [4/50] Loss: 2.5076\n",
      "Epoch [5/50] Loss: 2.1583\n",
      "Epoch [6/50] Loss: 1.8460\n",
      "Epoch [7/50] Loss: 1.6047\n",
      "Epoch [8/50] Loss: 1.4714\n",
      "Epoch [9/50] Loss: 1.3020\n",
      "Epoch [10/50] Loss: 1.1651\n",
      "Epoch [11/50] Loss: 1.1028\n",
      "Epoch [12/50] Loss: 0.9822\n",
      "Epoch [13/50] Loss: 0.9487\n",
      "Epoch [14/50] Loss: 0.8597\n",
      "Epoch [15/50] Loss: 0.7834\n",
      "Epoch [16/50] Loss: 0.7827\n",
      "Epoch [17/50] Loss: 0.6961\n",
      "Epoch [18/50] Loss: 0.6691\n",
      "Epoch [19/50] Loss: 0.6071\n",
      "Epoch [20/50] Loss: 0.5744\n",
      "Epoch [21/50] Loss: 0.5365\n",
      "Epoch [22/50] Loss: 0.5403\n",
      "Epoch [23/50] Loss: 0.4572\n",
      "Epoch [24/50] Loss: 0.4384\n",
      "Epoch [25/50] Loss: 0.3733\n",
      "Epoch [26/50] Loss: 0.3940\n",
      "Epoch [27/50] Loss: 0.3734\n",
      "Epoch [28/50] Loss: 0.3458\n",
      "Epoch [29/50] Loss: 0.3323\n",
      "Epoch [30/50] Loss: 0.3184\n",
      "Epoch [31/50] Loss: 0.2827\n",
      "Epoch [32/50] Loss: 0.2603\n",
      "Epoch [33/50] Loss: 0.2637\n",
      "Epoch [34/50] Loss: 0.2673\n",
      "Epoch [35/50] Loss: 0.2512\n",
      "Epoch [36/50] Loss: 0.2249\n",
      "Epoch [37/50] Loss: 0.2029\n",
      "Epoch [38/50] Loss: 0.1892\n",
      "Epoch [39/50] Loss: 0.1834\n",
      "Epoch [40/50] Loss: 0.1747\n",
      "Epoch [41/50] Loss: 0.1584\n",
      "Epoch [42/50] Loss: 0.1434\n",
      "Epoch [43/50] Loss: 0.1317\n",
      "Epoch [44/50] Loss: 0.1215\n",
      "Epoch [45/50] Loss: 0.1267\n",
      "Epoch [46/50] Loss: 0.1350\n",
      "Epoch [47/50] Loss: 0.1172\n",
      "Epoch [48/50] Loss: 0.1091\n",
      "Epoch [49/50] Loss: 0.0968\n",
      "Epoch [50/50] Loss: 0.0891\n"
     ]
    }
   ],
   "source": [
    "# We'll create a loop of 50 epoch for the training of our model and then before starting \n",
    "# the mode's training we will transform input and label to Pytorch variable\n",
    "\n",
    "for epoch in range(50):\n",
    "    images = torch.tensor(x)\n",
    "    labels = Variable(y)\n",
    "    # calling zero grad because at starting of each epoch we want to calculate gradient from zro initially\n",
    "    opt.zero_grad()\n",
    "    outputs = model(images) # model will  predicting output\n",
    "    \n",
    "    loss = loss_function(outputs, labels)\n",
    "    loss.backward() # call the backpropgotate \n",
    "    opt.step()\n",
    "    \n",
    "    print(\"Epoch [%d/%d] Loss: %.4f\" %(epoch+1, 50, loss.data.item()))\n"
   ]
  },
  {
   "cell_type": "code",
   "execution_count": 17,
   "id": "b524e2bd",
   "metadata": {},
   "outputs": [
    {
     "data": {
      "text/plain": [
       "(torch.Size([1000, 1, 28, 28]), torch.Size)"
      ]
     },
     "execution_count": 17,
     "metadata": {},
     "output_type": "execute_result"
    }
   ],
   "source": [
    "Variable(x).shape, type(Variable(x).shape)"
   ]
  },
  {
   "cell_type": "code",
   "execution_count": 18,
   "id": "b78a6040",
   "metadata": {},
   "outputs": [
    {
     "data": {
      "text/plain": [
       "(torch.Size([1000, 10]), torch.Size([1000]))"
      ]
     },
     "execution_count": 18,
     "metadata": {},
     "output_type": "execute_result"
    }
   ],
   "source": [
    "outputs.shape, labels.shape"
   ]
  },
  {
   "cell_type": "code",
   "execution_count": 19,
   "id": "3fc54675",
   "metadata": {},
   "outputs": [
    {
     "data": {
      "text/plain": [
       "(tensor([-1.1892e+01, -1.8494e+01, -1.2259e+01, -9.0903e-04, -1.5426e+01,\n",
       "         -8.7073e+00, -1.6311e+01, -1.5976e+01, -9.5973e+00, -7.3183e+00],\n",
       "        grad_fn=<SelectBackward0>),\n",
       " tensor(3))"
      ]
     },
     "execution_count": 19,
     "metadata": {},
     "output_type": "execute_result"
    }
   ],
   "source": [
    "n=7\n",
    "outputs[n],labels[n]"
   ]
  },
  {
   "cell_type": "code",
   "execution_count": 20,
   "id": "fd9e79db",
   "metadata": {},
   "outputs": [
    {
     "name": "stderr",
     "output_type": "stream",
     "text": [
      "C:\\Users\\xFlow\\AppData\\Local\\Temp\\ipykernel_8980\\1836337968.py:1: UserWarning: To copy construct from a tensor, it is recommended to use sourceTensor.clone().detach() or sourceTensor.clone().detach().requires_grad_(True), rather than torch.tensor(sourceTensor).\n",
      "  torch.tensor(x).shape, type(torch.tensor(x).shape)\n"
     ]
    },
    {
     "data": {
      "text/plain": [
       "(torch.Size([1000, 1, 28, 28]), torch.Size)"
      ]
     },
     "execution_count": 20,
     "metadata": {},
     "output_type": "execute_result"
    }
   ],
   "source": [
    "torch.tensor(x).shape, type(torch.tensor(x).shape)"
   ]
  },
  {
   "cell_type": "code",
   "execution_count": 21,
   "id": "4a6b8a22",
   "metadata": {},
   "outputs": [
    {
     "name": "stdout",
     "output_type": "stream",
     "text": [
      " Volume in drive C has no label.\n",
      " Volume Serial Number is 72E7-18BA\n",
      "\n",
      " Directory of C:\\Users\\xFlow\\Desktop\\Git Repo Clone\\Simple-NN-MultiClassClassifier\n",
      "\n",
      "14/01/2023  07:45 pm    <DIR>          .\n",
      "14/01/2023  07:45 pm    <DIR>          ..\n",
      "14/01/2023  07:24 pm    <DIR>          .ipynb_checkpoints\n",
      "14/01/2023  07:27 pm            35,149 LICENSE\n",
      "14/01/2023  07:45 pm            21,227 NN-classifier.ipynb\n",
      "14/01/2023  07:33 pm               464 README.md\n",
      "13/01/2023  04:16 pm           372,249 test.csv\n",
      "13/01/2023  04:29 pm         1,839,032 train.csv\n",
      "               5 File(s)      2,268,121 bytes\n",
      "               3 Dir(s)  25,611,984,896 bytes free\n"
     ]
    }
   ],
   "source": [
    "ls"
   ]
  },
  {
   "cell_type": "code",
   "execution_count": 25,
   "id": "b8d5ff03",
   "metadata": {},
   "outputs": [
    {
     "name": "stdout",
     "output_type": "stream",
     "text": [
      "shape of test before reshape :  (200, 785)\n",
      "shape of test after reshape :  (200, 1, 28, 28)\n"
     ]
    }
   ],
   "source": [
    "# Make Prediction\n",
    "test = pd.read_csv(\"test.csv\")\n",
    "print(\"shape of test before reshape : \",test.shape)\n",
    "test_labels=test['label'].values\n",
    "test = test.drop('label',axis=1).values.reshape(len(test),1,28,28)\n",
    "print(\"shape of test after reshape : \",test.shape)\n",
    "\n",
    "x_test=torch.Tensor(test.astype(float))\n",
    "y_test=torch.Tensor(test_labels).long()"
   ]
  },
  {
   "cell_type": "code",
   "execution_count": 30,
   "id": "22201143",
   "metadata": {},
   "outputs": [
    {
     "name": "stdout",
     "output_type": "stream",
     "text": [
      "Output of y_pred[0]: tensor([ -8.1850,  -8.8707, -10.4045,  -5.4665,  -4.0092,  -6.9665,  -8.3539,\n",
      "         -7.8014,  -3.1761,  -0.0684], grad_fn=<SelectBackward0>)\n",
      "\n",
      "Output of y_actual[0]: 9\n"
     ]
    }
   ],
   "source": [
    "pred = model(x_test)\n",
    "print(f\"Output of y_pred[0]: {pred[0]}\\n\\nOutput of y_actual[0]: {y_test[0]}\")\n",
    "# As we can see we got a vector of 10 instead of single value because it has predicted probility of each class\n",
    "# One with the highest prob is basically our required output \n",
    "# As we we have used log softmax so our values couldn't be in raw probibilites. All we need to do is to transform it"
   ]
  },
  {
   "cell_type": "code",
   "execution_count": 36,
   "id": "102cb80d",
   "metadata": {},
   "outputs": [
    {
     "data": {
      "text/plain": [
       "tensor(-0.0684, grad_fn=<UnbindBackward0>)"
      ]
     },
     "execution_count": 36,
     "metadata": {},
     "output_type": "execute_result"
    }
   ],
   "source": [
    "# torch.max(pred.data,1)\n",
    "max(pred[0])"
   ]
  },
  {
   "cell_type": "code",
   "execution_count": 40,
   "id": "aa7dd243",
   "metadata": {},
   "outputs": [
    {
     "name": "stdout",
     "output_type": "stream",
     "text": [
      "predictionlabel.shape:  torch.Size([200])\n"
     ]
    }
   ],
   "source": [
    "_, predictionlabel = torch.max(pred.data,1)\n",
    "print(\"predictionlabel.shape: \",predictionlabel.shape)\n",
    "\n",
    "predictionlabel = predictionlabel.tolist()"
   ]
  },
  {
   "cell_type": "code",
   "execution_count": 41,
   "id": "b4cb9913",
   "metadata": {},
   "outputs": [
    {
     "data": {
      "text/plain": [
       "[9,\n",
       " 8,\n",
       " 2,\n",
       " 4,\n",
       " 1,\n",
       " 9,\n",
       " 4,\n",
       " 5,\n",
       " 2,\n",
       " 7,\n",
       " 7,\n",
       " 4,\n",
       " 1,\n",
       " 9,\n",
       " 1,\n",
       " 3,\n",
       " 6,\n",
       " 8,\n",
       " 3,\n",
       " 7,\n",
       " 0,\n",
       " 7,\n",
       " 1,\n",
       " 1,\n",
       " 0,\n",
       " 4,\n",
       " 7,\n",
       " 1,\n",
       " 3,\n",
       " 1,\n",
       " 1,\n",
       " 8,\n",
       " 4,\n",
       " 1,\n",
       " 1,\n",
       " 5,\n",
       " 0,\n",
       " 6,\n",
       " 0,\n",
       " 8,\n",
       " 5,\n",
       " 7,\n",
       " 8,\n",
       " 7,\n",
       " 6,\n",
       " 7,\n",
       " 3,\n",
       " 3,\n",
       " 1,\n",
       " 1,\n",
       " 1,\n",
       " 1,\n",
       " 8,\n",
       " 4,\n",
       " 6,\n",
       " 3,\n",
       " 4,\n",
       " 0,\n",
       " 3,\n",
       " 1,\n",
       " 0,\n",
       " 1,\n",
       " 5,\n",
       " 9,\n",
       " 8,\n",
       " 8,\n",
       " 7,\n",
       " 8,\n",
       " 4,\n",
       " 0,\n",
       " 0,\n",
       " 6,\n",
       " 3,\n",
       " 6,\n",
       " 6,\n",
       " 7,\n",
       " 5,\n",
       " 5,\n",
       " 8,\n",
       " 1,\n",
       " 6,\n",
       " 0,\n",
       " 0,\n",
       " 9,\n",
       " 2,\n",
       " 3,\n",
       " 9,\n",
       " 8,\n",
       " 6,\n",
       " 1,\n",
       " 8,\n",
       " 5,\n",
       " 6,\n",
       " 0,\n",
       " 6,\n",
       " 9,\n",
       " 9,\n",
       " 5,\n",
       " 6,\n",
       " 8,\n",
       " 5,\n",
       " 6,\n",
       " 6,\n",
       " 2,\n",
       " 0,\n",
       " 2,\n",
       " 0,\n",
       " 2,\n",
       " 3,\n",
       " 3,\n",
       " 1,\n",
       " 5,\n",
       " 3,\n",
       " 9,\n",
       " 0,\n",
       " 1,\n",
       " 2,\n",
       " 0,\n",
       " 3,\n",
       " 1,\n",
       " 6,\n",
       " 0,\n",
       " 2,\n",
       " 3,\n",
       " 8,\n",
       " 2,\n",
       " 5,\n",
       " 4,\n",
       " 7,\n",
       " 2,\n",
       " 7,\n",
       " 1,\n",
       " 8,\n",
       " 5,\n",
       " 0,\n",
       " 5,\n",
       " 6,\n",
       " 6,\n",
       " 8,\n",
       " 8,\n",
       " 4,\n",
       " 7,\n",
       " 5,\n",
       " 0,\n",
       " 0,\n",
       " 3,\n",
       " 3,\n",
       " 1,\n",
       " 3,\n",
       " 0,\n",
       " 5,\n",
       " 2,\n",
       " 1,\n",
       " 2,\n",
       " 0,\n",
       " 3,\n",
       " 7,\n",
       " 1,\n",
       " 9,\n",
       " 1,\n",
       " 1,\n",
       " 9,\n",
       " 0,\n",
       " 7,\n",
       " 3,\n",
       " 5,\n",
       " 9,\n",
       " 5,\n",
       " 2,\n",
       " 1,\n",
       " 3,\n",
       " 8,\n",
       " 5,\n",
       " 2,\n",
       " 7,\n",
       " 9,\n",
       " 7,\n",
       " 2,\n",
       " 1,\n",
       " 4,\n",
       " 5,\n",
       " 1,\n",
       " 1,\n",
       " 8,\n",
       " 0,\n",
       " 5,\n",
       " 1,\n",
       " 4,\n",
       " 0,\n",
       " 2,\n",
       " 7,\n",
       " 2,\n",
       " 7,\n",
       " 9,\n",
       " 3,\n",
       " 5,\n",
       " 1,\n",
       " 4,\n",
       " 4,\n",
       " 2]"
      ]
     },
     "execution_count": 41,
     "metadata": {},
     "output_type": "execute_result"
    }
   ],
   "source": [
    "predictionlabel"
   ]
  },
  {
   "cell_type": "code",
   "execution_count": 42,
   "id": "c7ed0034",
   "metadata": {},
   "outputs": [
    {
     "data": {
      "text/plain": [
       "0      9\n",
       "1      8\n",
       "2      2\n",
       "3      4\n",
       "4      1\n",
       "      ..\n",
       "195    5\n",
       "196    1\n",
       "197    4\n",
       "198    4\n",
       "199    2\n",
       "Length: 200, dtype: int64"
      ]
     },
     "execution_count": 42,
     "metadata": {},
     "output_type": "execute_result"
    }
   ],
   "source": [
    "predictionlabel = pd.Series(predictionlabel)\n",
    "predictionlabel"
   ]
  },
  {
   "cell_type": "code",
   "execution_count": 47,
   "id": "5462b7f5",
   "metadata": {},
   "outputs": [
    {
     "data": {
      "text/html": [
       "<div>\n",
       "<style scoped>\n",
       "    .dataframe tbody tr th:only-of-type {\n",
       "        vertical-align: middle;\n",
       "    }\n",
       "\n",
       "    .dataframe tbody tr th {\n",
       "        vertical-align: top;\n",
       "    }\n",
       "\n",
       "    .dataframe thead th {\n",
       "        text-align: right;\n",
       "    }\n",
       "</style>\n",
       "<table border=\"1\" class=\"dataframe\">\n",
       "  <thead>\n",
       "    <tr style=\"text-align: right;\">\n",
       "      <th></th>\n",
       "      <th>Predicted Value</th>\n",
       "      <th>True Value</th>\n",
       "    </tr>\n",
       "  </thead>\n",
       "  <tbody>\n",
       "    <tr>\n",
       "      <th>0</th>\n",
       "      <td>9</td>\n",
       "      <td>9</td>\n",
       "    </tr>\n",
       "    <tr>\n",
       "      <th>1</th>\n",
       "      <td>8</td>\n",
       "      <td>5</td>\n",
       "    </tr>\n",
       "    <tr>\n",
       "      <th>2</th>\n",
       "      <td>2</td>\n",
       "      <td>2</td>\n",
       "    </tr>\n",
       "    <tr>\n",
       "      <th>3</th>\n",
       "      <td>4</td>\n",
       "      <td>4</td>\n",
       "    </tr>\n",
       "    <tr>\n",
       "      <th>4</th>\n",
       "      <td>1</td>\n",
       "      <td>1</td>\n",
       "    </tr>\n",
       "    <tr>\n",
       "      <th>5</th>\n",
       "      <td>9</td>\n",
       "      <td>4</td>\n",
       "    </tr>\n",
       "    <tr>\n",
       "      <th>6</th>\n",
       "      <td>4</td>\n",
       "      <td>4</td>\n",
       "    </tr>\n",
       "    <tr>\n",
       "      <th>7</th>\n",
       "      <td>5</td>\n",
       "      <td>5</td>\n",
       "    </tr>\n",
       "    <tr>\n",
       "      <th>8</th>\n",
       "      <td>2</td>\n",
       "      <td>2</td>\n",
       "    </tr>\n",
       "    <tr>\n",
       "      <th>9</th>\n",
       "      <td>7</td>\n",
       "      <td>7</td>\n",
       "    </tr>\n",
       "    <tr>\n",
       "      <th>10</th>\n",
       "      <td>7</td>\n",
       "      <td>7</td>\n",
       "    </tr>\n",
       "    <tr>\n",
       "      <th>11</th>\n",
       "      <td>4</td>\n",
       "      <td>4</td>\n",
       "    </tr>\n",
       "    <tr>\n",
       "      <th>12</th>\n",
       "      <td>1</td>\n",
       "      <td>1</td>\n",
       "    </tr>\n",
       "    <tr>\n",
       "      <th>13</th>\n",
       "      <td>9</td>\n",
       "      <td>4</td>\n",
       "    </tr>\n",
       "    <tr>\n",
       "      <th>14</th>\n",
       "      <td>1</td>\n",
       "      <td>1</td>\n",
       "    </tr>\n",
       "    <tr>\n",
       "      <th>15</th>\n",
       "      <td>3</td>\n",
       "      <td>7</td>\n",
       "    </tr>\n",
       "    <tr>\n",
       "      <th>16</th>\n",
       "      <td>6</td>\n",
       "      <td>6</td>\n",
       "    </tr>\n",
       "    <tr>\n",
       "      <th>17</th>\n",
       "      <td>8</td>\n",
       "      <td>8</td>\n",
       "    </tr>\n",
       "    <tr>\n",
       "      <th>18</th>\n",
       "      <td>3</td>\n",
       "      <td>8</td>\n",
       "    </tr>\n",
       "    <tr>\n",
       "      <th>19</th>\n",
       "      <td>7</td>\n",
       "      <td>7</td>\n",
       "    </tr>\n",
       "  </tbody>\n",
       "</table>\n",
       "</div>"
      ],
      "text/plain": [
       "    Predicted Value  True Value\n",
       "0                 9           9\n",
       "1                 8           5\n",
       "2                 2           2\n",
       "3                 4           4\n",
       "4                 1           1\n",
       "5                 9           4\n",
       "6                 4           4\n",
       "7                 5           5\n",
       "8                 2           2\n",
       "9                 7           7\n",
       "10                7           7\n",
       "11                4           4\n",
       "12                1           1\n",
       "13                9           4\n",
       "14                1           1\n",
       "15                3           7\n",
       "16                6           6\n",
       "17                8           8\n",
       "18                3           8\n",
       "19                7           7"
      ]
     },
     "metadata": {},
     "output_type": "display_data"
    }
   ],
   "source": [
    "test_labels= pd.Series(test_labels)\n",
    "pred_table = pd.concat([predictionlabel, test_labels], axis=1)\n",
    "pred_table.columns = ['Predicted Value', 'True Value']\n",
    "display(pred_table.head(20))"
   ]
  },
  {
   "cell_type": "code",
   "execution_count": null,
   "id": "d76b5685",
   "metadata": {},
   "outputs": [],
   "source": []
  }
 ],
 "metadata": {
  "kernelspec": {
   "display_name": "Python 3 (ipykernel)",
   "language": "python",
   "name": "python3"
  },
  "language_info": {
   "codemirror_mode": {
    "name": "ipython",
    "version": 3
   },
   "file_extension": ".py",
   "mimetype": "text/x-python",
   "name": "python",
   "nbconvert_exporter": "python",
   "pygments_lexer": "ipython3",
   "version": "3.9.13"
  }
 },
 "nbformat": 4,
 "nbformat_minor": 5
}
